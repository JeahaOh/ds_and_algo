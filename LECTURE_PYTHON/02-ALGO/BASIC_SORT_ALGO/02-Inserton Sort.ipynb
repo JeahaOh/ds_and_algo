{
 "cells": [
  {
   "cell_type": "markdown",
   "metadata": {},
   "source": [
    "# 삽입 정렬\n",
    "\n",
    "- 삽입 정렬은 두 번째 인덱스 부터 시작\n",
    "- 해당 인덱스(key 값) 앞에 있는 데이터 (B)부터 비교해서 key 값이 더 작으면, B 값을 뒤 인덱스로 복사\n",
    "- 이를 key 값이 더 큰 데이터를 만날 대까지 반복, 그리고 큰 데이터를 만난 위치 바로 뒤에 key 값 이동\n",
    "\n",
    "## EX\n",
    "\n",
    "- data_list = [9, 3, 2, 5]\n",
    "  1. [9, 3, 2, 5]\n",
    "  2. [3, 9, 2, 5]\n",
    "  3. [2, 3, 9, 5]\n",
    "  4. [2, 3, 5, 9]\n",
    "\n",
    "## 알고리즘 구현\n",
    "\n",
    "1. for loc in range(len(data_list) 로 반복\n",
    "2. key = data_list[loc]\n",
    "3. for num in range(loc, 1, -1) 반복\n",
    "  - 내부 반복문 안에서 data_list[loc] < data_list[loc - 1]이면\n",
    "    - swap\n",
    "  - 아니면\n",
    "    - break"
   ]
  },
  {
   "cell_type": "code",
   "execution_count": 5,
   "metadata": {},
   "outputs": [
    {
     "name": "stdout",
     "output_type": "stream",
     "text": [
      "[8, 74, 69, 67, 70]\n",
      "[8, 74, 69, 67, 70]\n",
      "[8, 69, 74, 67, 70]\n",
      "[8, 67, 69, 74, 70]\n",
      "[8, 67, 69, 70, 74]\n",
      "[8, 67, 69, 70, 74]\n"
     ]
    }
   ],
   "source": [
    "def insertion_sort(data) :\n",
    "  for index in range(len(data) - 1) :\n",
    "    for index2 in range(index + 1, 0, -1) :\n",
    "      if data[index2] < data[index2 - 1] :\n",
    "        data[index2], data[index2 - 1] = data[index2 - 1], data[index2]\n",
    "      else :\n",
    "        break\n",
    "    print(data)\n",
    "\n",
    "  return data\n",
    "\n",
    "import random\n",
    "data_list = random.sample(range(100), 5)\n",
    "print(data_list)\n",
    "print(insertion_sort(data_list))"
   ]
  },
  {
   "cell_type": "code",
   "execution_count": null,
   "metadata": {
    "vscode": {
     "languageId": "javascript"
    }
   },
   "outputs": [],
   "source": [
    "const insertion_sort = (arr) => {\n",
    "  for (let i = 1; i < arr.length; i++) {\n",
    "    let curr = arr[i];\n",
    "    console.log(`i : ${i} ::\\t${arr}\\n\\t curr -> ${curr}`);\n",
    "    let prv = i - 1;\n",
    "\n",
    "    while (prv >= 0 && arr[prv] > curr) {\n",
    "      arr[prv + 1] = arr[prv];\n",
    "      console.log(`\\t${arr[prv]} -> \\t${arr}`);\n",
    "      prv--;\n",
    "    }\n",
    "    arr[prv + 1] = curr;\n",
    "    console.log();\n",
    "  }\n",
    "\n",
    "  return arr\n",
    "}\n",
    "\n",
    "const data_set = new Set();\n",
    "\n",
    "for (let i = 0; i < 10; i++) {\n",
    "  data_set.add(Math.floor(Math.random() * 100))\n",
    "}\n",
    "\n",
    "const data_list = Array.from(data_set);\n",
    "\n",
    "console.log(data_list);\n",
    "insertion_sort(data_list);\n",
    "console.log(data_list);"
   ]
  },
  {
   "cell_type": "markdown",
   "metadata": {},
   "source": [
    "### 알고리즘 분석\n",
    "* 반복문이 두 개 O($n^2$)\n",
    "  - 최악의 경우, <font size=5em>$\\frac { n * (n - 1)}{ 2 }$</font>\n",
    "* 완전 정렬이 되어 있는 상태라면 최선은 O(n)"
   ]
  }
 ],
 "metadata": {
  "kernelspec": {
   "display_name": "Python 3.9.13 64-bit",
   "language": "python",
   "name": "python3"
  },
  "language_info": {
   "codemirror_mode": {
    "name": "ipython",
    "version": 3
   },
   "file_extension": ".py",
   "mimetype": "text/x-python",
   "name": "python",
   "nbconvert_exporter": "python",
   "pygments_lexer": "ipython3",
   "version": "3.9.13"
  },
  "orig_nbformat": 4,
  "vscode": {
   "interpreter": {
    "hash": "aee8b7b246df8f9039afb4144a1f6fd8d2ca17a180786b69acc140d282b71a49"
   }
  }
 },
 "nbformat": 4,
 "nbformat_minor": 2
}
