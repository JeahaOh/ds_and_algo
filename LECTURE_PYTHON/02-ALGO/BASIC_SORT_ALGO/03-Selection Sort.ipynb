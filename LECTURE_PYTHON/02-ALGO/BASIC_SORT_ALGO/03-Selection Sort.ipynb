{
 "cells": [
  {
   "cell_type": "markdown",
   "metadata": {},
   "source": [
    "# 선택 정렬\n",
    "\n",
    "- 다음과 같은 순서를 반복하며 정렬하는 알고리즘\n",
    "  1. 주어진 데이터 중, 최소값을 찾음\n",
    "  2. 해당 최소값을 데이터 맨 앞에 위치한 값고 교체\n",
    "  3. 맨 앞의 위치를 뺀 나머지 데이터를 동일한 방법으로 반복\n",
    "\n",
    "## EX\n",
    "\n",
    "- 데이터가 두 개일 때\n",
    "  - [9, 1]\n",
    "  - [1, 9]\n",
    "- 데이터가 세 개일 때\n",
    "  - [9, 1, 7]\n",
    "  - [1, 9, 7]\n",
    "  - [1, 7, 9]\n",
    "- 데이터가 네 개일 때\n",
    "  - [9, 4, 3, 1]\n",
    "  - [1, 4, 2, 9]\n",
    "  - [1, 2, 4, 9]\n",
    "  - [1, 2, 4, 9]\n",
    "\n",
    "## 알고리즘 구현\n",
    "\n",
    "1. for location in range(len(data_list) - 1)로 반복\n",
    "2. lowest = location\n",
    "3. for num in range(location, len(data_list))로 반복\n",
    "  - 내부 반복문 안에서 data_list[lowest] > data_list[num]이면\n",
    "    - lowest = num\n",
    "4. data_list[num], data_list[lowest] = data_list[lowest], data_list[num]"
   ]
  },
  {
   "cell_type": "code",
   "execution_count": 2,
   "metadata": {},
   "outputs": [
    {
     "name": "stdout",
     "output_type": "stream",
     "text": [
      "[66, 85, 77, 76, 11, 62, 24, 72, 65, 0]\n",
      "[0, 11, 24, 62, 65, 66, 72, 76, 77, 85]\n"
     ]
    }
   ],
   "source": [
    "def selection_sort(data):\n",
    "  for location in range(len(data) - 1) :\n",
    "    lowest = location\n",
    "    for index in range(location + 1, len(data)) :\n",
    "      if data[lowest] > data[index] :\n",
    "        lowest = index\n",
    "      \n",
    "    data[lowest], data[location] = data[location], data[lowest]\n",
    "  \n",
    "  return data\n",
    "\n",
    "import random\n",
    "\n",
    "data_list = random.sample(range(100), 10)\n",
    "print(data_list)\n",
    "selection_sort(data_list)\n",
    "print(data_list)"
   ]
  },
  {
   "cell_type": "code",
   "execution_count": null,
   "metadata": {},
   "outputs": [],
   "source": []
  },
  {
   "cell_type": "code",
   "execution_count": null,
   "metadata": {},
   "outputs": [],
   "source": []
  }
 ],
 "metadata": {
  "kernelspec": {
   "display_name": "Python 3.9.13 64-bit",
   "language": "python",
   "name": "python3"
  },
  "language_info": {
   "codemirror_mode": {
    "name": "ipython",
    "version": 3
   },
   "file_extension": ".py",
   "mimetype": "text/x-python",
   "name": "python",
   "nbconvert_exporter": "python",
   "pygments_lexer": "ipython3",
   "version": "3.9.13"
  },
  "orig_nbformat": 4,
  "vscode": {
   "interpreter": {
    "hash": "aee8b7b246df8f9039afb4144a1f6fd8d2ca17a180786b69acc140d282b71a49"
   }
  }
 },
 "nbformat": 4,
 "nbformat_minor": 2
}
