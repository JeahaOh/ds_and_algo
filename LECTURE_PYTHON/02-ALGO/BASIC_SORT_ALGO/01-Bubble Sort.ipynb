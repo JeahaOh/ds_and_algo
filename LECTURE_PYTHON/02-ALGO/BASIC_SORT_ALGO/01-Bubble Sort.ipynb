{
 "cells": [
  {
   "cell_type": "markdown",
   "metadata": {},
   "source": [
    "# 버블 정렬\n",
    "두 인접한 데이터를 지교, 앞에 있는 데이터가 뒤에 있는 데이터보다 크면, 자리를 바꾸는 알고리즘\n",
    "\n",
    "## EX\n",
    "\n",
    "- data_list = [2, 9, 6, 4]\n",
    "- 1차\n",
    "  - 2, 9 비교, 자리바꿈 X : [2, 9, 6, 4]\n",
    "  - 6, 9 비교, 자리바꿈 O : [2, 6, 9, 4]\n",
    "  - 9, 4 비교, 자리바꿈 O : [2, 6, 4, 9]\n",
    "- 2차\n",
    "  - 2, 6 비교, 자리바꿈 X : [2, 6, 4, 9]\n",
    "  - 6, 4 비교, 자리바꿈 O : [2, 4, 6, 9]\n",
    "  - 6, 9 비교, 자리바꿈 X : [2, 4, 6, 9]\n",
    "- 3차\n",
    "  - 2, 4 비교, 자리바꿈 X : [2, 4, 6, 9]\n",
    "  - 4, 6 비교, 자리바꿈 X : [2, 4, 6, 9]\n",
    "  - 6, 9 비교, 자리바꿈 X : [2, 4, 6, 9]\n",
    "\n",
    "### 알고리즘의 구현\n",
    "\n",
    "- 특이점\n",
    "  - n개의 리스트가 있는 경우 최대 n - 1번의 로직을 수행함\n",
    "  - 로직을 1번 수행할 때마다 가장 큰 숫자가 뒤에서부터 1개씩 결정됨\n",
    "  - 로직이 경우에 따라 일찍 끝날 수 있음\n",
    "  - 따라서 로직이 수행될 때 한 번도 데이터가 교환된 적이 없다면 이미 정렬된 상태임\n",
    "1. for num in range(len(data_list)) 의 반복\n",
    "2. swap = 0 교환이 되었는지를 확인하는 변수가 필요\n",
    "3. 반복문 안에서 for index in range(len(data_list) - num -1) 번 반복수행해야 함\n",
    "4. 반복문 안의 반복문에서 data_list[index] > data_list[index + 1]이면\n",
    "5. 자리 교환\n",
    "6. swap = true\n",
    "7. 반복문 안에서 swap이 false면 break\n",
    "\n"
   ]
  },
  {
   "cell_type": "code",
   "execution_count": null,
   "metadata": {},
   "outputs": [],
   "source": [
    "def bubblesort(data) :\n",
    "  for index in range(len(data) - 1) :\n",
    "    for index2 in range(len(data) - index - 1) :\n",
    "      if data[index2] > data[index2 + 1] :\n",
    "        data[index2], data[index2 + 1] = data[index2 + 1], data [index2]\n",
    "        swap = True\n",
    "    \n",
    "    if swap == False :\n",
    "      break\n",
    "  \n",
    "  return data\n",
    "\n",
    "import random\n",
    "data_list = random.sample(range(100), 50)\n",
    "data_list\n",
    "\n",
    "bubblesort(data_list)\n"
   ]
  },
  {
   "cell_type": "code",
   "execution_count": 5,
   "metadata": {
    "vscode": {
     "languageId": "javascript"
    }
   },
   "outputs": [
    {
     "ename": "SyntaxError",
     "evalue": "invalid syntax (3473870040.py, line 1)",
     "output_type": "error",
     "traceback": [
      "\u001b[0;36m  Input \u001b[0;32mIn [5]\u001b[0;36m\u001b[0m\n\u001b[0;31m    const bubblesort = (data) => {\u001b[0m\n\u001b[0m          ^\u001b[0m\n\u001b[0;31mSyntaxError\u001b[0m\u001b[0;31m:\u001b[0m invalid syntax\n"
     ]
    }
   ],
   "source": [
    "const bubblesort = (data) => {\n",
    "  for (let index = 0; index < data.length; index++) {\n",
    "\n",
    "    let swap = false;\n",
    "\n",
    "    for (let idx = 0; idx < data.length - index - 1; idx++) {\n",
    "      if (data[idx] > data[idx + 1]) {\n",
    "        data[idx] ^= data[idx + 1];\n",
    "        data[idx + 1] ^= data[idx];\n",
    "        data[idx] ^= data[idx + 1];\n",
    "        swap = true;\n",
    "      }\n",
    "    }\n",
    "\n",
    "    if (!swap) {\n",
    "      break;\n",
    "    }\n",
    "  }\n",
    "\n",
    "  return data\n",
    "}\n",
    "\n",
    "\n",
    "const data_set = new Set();\n",
    "\n",
    "for (let i = 0; i < 50; i++) {\n",
    "  data_set.add(Math.floor(Math.random() * 100))\n",
    "}\n",
    "\n",
    "const data_list = Array.from(data_set);\n",
    "\n",
    "console.log(data_list);\n",
    "bubblesort(data_list);\n",
    "console.log(data_list);"
   ]
  },
  {
   "cell_type": "markdown",
   "metadata": {},
   "source": [
    "### 알고리즘 분석\n",
    "* 반복문이 두 개 O($n^2$)\n",
    "  - 최악의 경우, <font size=5em>$\\frac { n * (n - 1)}{ 2 }$</font>\n",
    "* 완전 정렬이 되어 있는 상태라면 최선은 O(n)"
   ]
  }
 ],
 "metadata": {
  "kernelspec": {
   "display_name": "Python 3.9.13 64-bit",
   "language": "python",
   "name": "python3"
  },
  "language_info": {
   "codemirror_mode": {
    "name": "ipython",
    "version": 3
   },
   "file_extension": ".py",
   "mimetype": "text/x-python",
   "name": "python",
   "nbconvert_exporter": "python",
   "pygments_lexer": "ipython3",
   "version": "3.9.13"
  },
  "orig_nbformat": 4,
  "vscode": {
   "interpreter": {
    "hash": "aee8b7b246df8f9039afb4144a1f6fd8d2ca17a180786b69acc140d282b71a49"
   }
  }
 },
 "nbformat": 4,
 "nbformat_minor": 2
}
