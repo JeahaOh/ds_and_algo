{
 "cells": [
  {
   "cell_type": "code",
   "execution_count": 1,
   "metadata": {},
   "outputs": [],
   "source": [
    "# Linked List 구현\n",
    "\n",
    "# Node 구현\n",
    "class Node :\n",
    "  def __init__(self, data, next = None):\n",
    "    self.data = data\n",
    "    self.next = next\n",
    "\n",
    "# Node, Node 연결(포인터 활용)\n",
    "node1 = Node(1)\n",
    "node2 = Node(2)\n",
    "node1.next = node2\n",
    "\n",
    "head = node1\n",
    "\n",
    "# LinkedList에 데이터 추가하기\n",
    "\n",
    "def add(data):\n",
    "  node = head\n",
    "\n",
    "  while node.next:\n",
    "    node = node.next\n",
    "  \n",
    "  node.next = Node(data)\n",
    "\n",
    "node1 = Node(1)\n",
    "head = node1\n",
    "\n",
    "for index in range(2, 10):\n",
    "  add(index)\n",
    "\n"
   ]
  },
  {
   "cell_type": "code",
   "execution_count": 4,
   "metadata": {},
   "outputs": [
    {
     "name": "stdout",
     "output_type": "stream",
     "text": [
      "1\n",
      "2\n",
      "3\n",
      "4\n",
      "5\n",
      "6\n",
      "7\n",
      "8\n",
      "9\n"
     ]
    }
   ],
   "source": [
    "node = head\n",
    "\n",
    "while node.next:\n",
    "  print(node.data)\n",
    "  node = node.next\n",
    "\n",
    "print(node.data)"
   ]
  },
  {
   "cell_type": "code",
   "execution_count": 5,
   "metadata": {},
   "outputs": [],
   "source": [
    "node3 = Node(1.5)\n",
    "\n",
    "node = head\n",
    "search = True\n",
    "while search:\n",
    "  if node.data == 1:\n",
    "    search = False\n",
    "  else:\n",
    "    node = node.next\n",
    "\n",
    "node_next = node.next\n",
    "node.next = node3\n",
    "node3.next = node_next\n",
    "\n"
   ]
  },
  {
   "cell_type": "code",
   "execution_count": 6,
   "metadata": {},
   "outputs": [
    {
     "name": "stdout",
     "output_type": "stream",
     "text": [
      "1\n",
      "1.5\n",
      "2\n",
      "3\n",
      "4\n",
      "5\n",
      "6\n",
      "7\n",
      "8\n",
      "9\n"
     ]
    }
   ],
   "source": [
    "node = head\n",
    "\n",
    "while node.next:\n",
    "  print(node.data)\n",
    "  node = node.next\n",
    "\n",
    "print(node.data)"
   ]
  },
  {
   "cell_type": "code",
   "execution_count": 37,
   "metadata": {},
   "outputs": [
    {
     "name": "stdout",
     "output_type": "stream",
     "text": [
      "0\n"
     ]
    }
   ],
   "source": [
    "# python oop를 이용한 링크드 리스트 구현\n",
    "\n",
    "class Node:\n",
    "  def __init__(self, data, next = None):\n",
    "    self.data = data\n",
    "    self.next = next\n",
    "\n",
    "class NodeMgmt:\n",
    "  def __init__(self, data):\n",
    "    self.head = Node(data)\n",
    "\n",
    "  def add(self, data):\n",
    "    if self.head == '':\n",
    "      self.head = Node(data)\n",
    "    else :\n",
    "      node = self.head\n",
    "      while node.next:\n",
    "        node = node.next\n",
    "      node.next = Node(data)\n",
    "\n",
    "\n",
    "  def desc(self):\n",
    "    node = self.head\n",
    "    while node:\n",
    "      print(node.data)\n",
    "      node = node.next\n",
    "\n",
    "linked_list1 = NodeMgmt(0)\n",
    "linked_list1.desc()"
   ]
  },
  {
   "cell_type": "code",
   "execution_count": 38,
   "metadata": {},
   "outputs": [
    {
     "name": "stdout",
     "output_type": "stream",
     "text": [
      "0\n",
      "1\n",
      "2\n",
      "3\n",
      "4\n",
      "5\n",
      "6\n",
      "7\n",
      "8\n",
      "9\n"
     ]
    }
   ],
   "source": [
    "for data in range(1, 10):\n",
    "  linked_list1.add(data)\n",
    "\n",
    "linked_list1.desc()"
   ]
  },
  {
   "cell_type": "code",
   "execution_count": 103,
   "metadata": {},
   "outputs": [],
   "source": [
    "# 노드 제거 구현\n",
    "\n",
    "class Node:\n",
    "  def __init__(self, data, next = None):\n",
    "    self.data = data\n",
    "    self.next = next\n",
    "\n",
    "class NodeMgmt:\n",
    "  def __init__(self, data):\n",
    "    self.head = Node(data)\n",
    "\n",
    "  def add(self, data):\n",
    "    if self.head == '':\n",
    "      self.head = Node(data)\n",
    "    else :\n",
    "      node = self.head\n",
    "      while node.next:\n",
    "        node = node.next\n",
    "      node.next = Node(data)\n",
    "\n",
    "\n",
    "  def desc(self):\n",
    "    node = self.head\n",
    "    while node:\n",
    "      print(node.data)\n",
    "      node = node.next\n",
    "\n",
    "  def delete(self, data):\n",
    "    if self.head == '':\n",
    "      print('해당 값을 가진 노드가 없음')\n",
    "      return\n",
    "    \n",
    "    if self.head.data == data:\n",
    "      # head를 삭제해야하는 경우\n",
    "      temp = self.head\n",
    "      self.head = self.head.next\n",
    "      del temp\n",
    "    else:\n",
    "      # head가 아닌 노드를 삭제하는 경우\n",
    "      node = self.head\n",
    "      while node.next.data:\n",
    "        if node.next.data == data :\n",
    "          temp = node.next\n",
    "          node.next = node.next.next\n",
    "          del temp\n",
    "          return\n",
    "        else :\n",
    "          node = node.next\n",
    "\n",
    "  def search_node(self, data):\n",
    "    node = self.head\n",
    "    while node:\n",
    "      if node.data == data:\n",
    "        return node\n",
    "      else : \n",
    "        if node.next is None :\n",
    "          print('node가 없음')\n",
    "          return False\n",
    "        else :\n",
    "          node = node.next\n",
    "          return node"
   ]
  },
  {
   "cell_type": "code",
   "execution_count": 69,
   "metadata": {},
   "outputs": [
    {
     "name": "stdout",
     "output_type": "stream",
     "text": [
      "0\n"
     ]
    }
   ],
   "source": [
    "linked_list1 = NodeMgmt(0)\n",
    "linked_list1.desc()"
   ]
  },
  {
   "cell_type": "code",
   "execution_count": 46,
   "metadata": {},
   "outputs": [],
   "source": [
    "linked_list1.delete(0)\n",
    "linked_list1.head"
   ]
  },
  {
   "cell_type": "code",
   "execution_count": 109,
   "metadata": {},
   "outputs": [
    {
     "name": "stdout",
     "output_type": "stream",
     "text": [
      "0\n",
      "1\n",
      "2\n",
      "3\n",
      "4\n",
      "5\n",
      "6\n",
      "7\n",
      "8\n",
      "9\n"
     ]
    }
   ],
   "source": [
    "linked_list1 = NodeMgmt(0)\n",
    "linked_list1.desc\n",
    "\n",
    "for data in range(1, 10):\n",
    "  linked_list1.add(data)\n",
    "linked_list1.desc()"
   ]
  },
  {
   "cell_type": "code",
   "execution_count": 54,
   "metadata": {},
   "outputs": [
    {
     "name": "stdout",
     "output_type": "stream",
     "text": [
      "0\n",
      "1\n",
      "2\n",
      "3\n",
      "5\n",
      "6\n",
      "7\n",
      "8\n",
      "9\n",
      "0\n",
      "1\n",
      "2\n",
      "3\n",
      "5\n",
      "7\n",
      "8\n",
      "9\n"
     ]
    }
   ],
   "source": [
    "linked_list1.delete(4)\n",
    "linked_list1.desc()"
   ]
  },
  {
   "cell_type": "code",
   "execution_count": 110,
   "metadata": {},
   "outputs": [
    {
     "name": "stdout",
     "output_type": "stream",
     "text": [
      "0\n",
      "1\n",
      "3\n",
      "4\n",
      "5\n",
      "6\n",
      "7\n",
      "8\n",
      "9\n"
     ]
    }
   ],
   "source": [
    "\n",
    "linked_list1.delete(2)\n",
    "linked_list1.desc()"
   ]
  },
  {
   "cell_type": "code",
   "execution_count": 111,
   "metadata": {},
   "outputs": [
    {
     "name": "stdout",
     "output_type": "stream",
     "text": [
      "1\n"
     ]
    }
   ],
   "source": [
    "node_mgmt = NodeMgmt(0)\n",
    "for data in range(1, 10):\n",
    "    node_mgmt.add(data)\n",
    "\n",
    "node = node_mgmt.search_node(4)\n",
    "print (node.data)"
   ]
  },
  {
   "cell_type": "code",
   "execution_count": 112,
   "metadata": {},
   "outputs": [
    {
     "name": "stdout",
     "output_type": "stream",
     "text": [
      "0\n",
      "1\n",
      "2\n",
      "3\n",
      "4\n",
      "5\n",
      "6\n",
      "7\n",
      "8\n",
      "9\n",
      "<__main__.Node object at 0x111c24af0>\n"
     ]
    }
   ],
   "source": [
    "node_mgmt = NodeMgmt(0)\n",
    "for data in range(1, 10):\n",
    "    node_mgmt.add(data)\n",
    "\n",
    "node_mgmt.desc()\n",
    "node = node_mgmt.search_node(10)\n",
    "print(node)\n",
    "\n"
   ]
  },
  {
   "cell_type": "code",
   "execution_count": 107,
   "metadata": {},
   "outputs": [
    {
     "ename": "AttributeError",
     "evalue": "'NoneType' object has no attribute 'data'",
     "output_type": "error",
     "traceback": [
      "\u001b[0;31m---------------------------------------------------------------------------\u001b[0m",
      "\u001b[0;31mAttributeError\u001b[0m                            Traceback (most recent call last)",
      "\u001b[1;32m/Users/jeaha/git/ds_and_algo/01-DS/07-LINKED_LIST..ipynb 셀 15\u001b[0m in \u001b[0;36m<cell line: 1>\u001b[0;34m()\u001b[0m\n\u001b[0;32m----> <a href='vscode-notebook-cell:/Users/jeaha/git/ds_and_algo/01-DS/07-LINKED_LIST..ipynb#ch0000015?line=0'>1</a>\u001b[0m node_mgmt\u001b[39m.\u001b[39;49msafe_delete(\u001b[39m10\u001b[39;49m)\n",
      "\u001b[1;32m/Users/jeaha/git/ds_and_algo/01-DS/07-LINKED_LIST..ipynb 셀 15\u001b[0m in \u001b[0;36mNodeMgmt.safe_delete\u001b[0;34m(self, data)\u001b[0m\n\u001b[1;32m     <a href='vscode-notebook-cell:/Users/jeaha/git/ds_and_algo/01-DS/07-LINKED_LIST..ipynb#ch0000015?line=71'>72</a>\u001b[0m \u001b[39melse\u001b[39;00m :\n\u001b[1;32m     <a href='vscode-notebook-cell:/Users/jeaha/git/ds_and_algo/01-DS/07-LINKED_LIST..ipynb#ch0000015?line=72'>73</a>\u001b[0m   node \u001b[39m=\u001b[39m \u001b[39mself\u001b[39m\u001b[39m.\u001b[39mhead\n\u001b[0;32m---> <a href='vscode-notebook-cell:/Users/jeaha/git/ds_and_algo/01-DS/07-LINKED_LIST..ipynb#ch0000015?line=73'>74</a>\u001b[0m   \u001b[39mwhile\u001b[39;00m \u001b[39mself\u001b[39m\u001b[39m.\u001b[39msearch_node(node\u001b[39m.\u001b[39;49mnext\u001b[39m.\u001b[39;49mdata) :\n\u001b[1;32m     <a href='vscode-notebook-cell:/Users/jeaha/git/ds_and_algo/01-DS/07-LINKED_LIST..ipynb#ch0000015?line=74'>75</a>\u001b[0m     \u001b[39mif\u001b[39;00m node\u001b[39m.\u001b[39mnext\u001b[39m.\u001b[39mdata \u001b[39m==\u001b[39m data :\n\u001b[1;32m     <a href='vscode-notebook-cell:/Users/jeaha/git/ds_and_algo/01-DS/07-LINKED_LIST..ipynb#ch0000015?line=75'>76</a>\u001b[0m       temp \u001b[39m=\u001b[39m node\u001b[39m.\u001b[39mnext\n",
      "\u001b[0;31mAttributeError\u001b[0m: 'NoneType' object has no attribute 'data'"
     ]
    }
   ],
   "source": []
  },
  {
   "cell_type": "code",
   "execution_count": 113,
   "metadata": {},
   "outputs": [],
   "source": [
    "# double linked list"
   ]
  },
  {
   "cell_type": "code",
   "execution_count": 114,
   "metadata": {},
   "outputs": [],
   "source": [
    "class Node:\n",
    "  def __init__(self, data, prev = None, next = None):\n",
    "    self.prev = prev\n",
    "    self.data = data\n",
    "    self.next = next\n",
    "\n",
    "class NodeMgmt:\n",
    "  def __init__(self, data):\n",
    "    self.head = Node(data)\n",
    "    self.tail = self.head\n",
    "\n",
    "  def insert(self, data):\n",
    "    if self.head == None:\n",
    "      self.head = Node(data)\n",
    "      self.tail = self.head\n",
    "    else :\n",
    "      node = self.head\n",
    "      while node.next:\n",
    "        node = node.next\n",
    "      \n",
    "      new = Node(data)\n",
    "      node.next = new\n",
    "      new.prev = node\n",
    "      self.tail = new\n",
    "\n",
    "  def desc(self):\n",
    "    node = self.head\n",
    "    while node:\n",
    "      print(node.data)\n",
    "      node = node.next"
   ]
  },
  {
   "cell_type": "code",
   "execution_count": 117,
   "metadata": {},
   "outputs": [
    {
     "name": "stdout",
     "output_type": "stream",
     "text": [
      "0\n",
      "1\n",
      "2\n",
      "3\n",
      "4\n",
      "5\n",
      "6\n",
      "7\n",
      "8\n",
      "9\n"
     ]
    }
   ],
   "source": [
    "double_linked_list = NodeMgmt(0)\n",
    "\n",
    "for data in range(1, 10) :\n",
    "  double_linked_list.insert(data)\n",
    "\n",
    "double_linked_list.desc()\n"
   ]
  },
  {
   "cell_type": "code",
   "execution_count": 127,
   "metadata": {},
   "outputs": [],
   "source": [
    "class Node:\n",
    "  def __init__(self, data, prev = None, next = None):\n",
    "    self.prev = prev\n",
    "    self.data = data\n",
    "    self.next = next\n",
    "\n",
    "class NodeMgmt:\n",
    "  def __init__(self, data):\n",
    "    self.head = Node(data)\n",
    "    self.tail = self.head\n",
    "\n",
    "  def insert(self, data):\n",
    "    if self.head == None:\n",
    "      self.head = Node(data)\n",
    "      self.tail = self.head\n",
    "    else :\n",
    "      node = self.head\n",
    "      while node.next:\n",
    "        node = node.next\n",
    "      \n",
    "      new = Node(data)\n",
    "      node.next = new\n",
    "      new.prev = node\n",
    "      self.tail = new\n",
    "\n",
    "  def desc(self):\n",
    "    node = self.head\n",
    "    while node:\n",
    "      print(node.data)\n",
    "      node = node.next\n",
    "\n",
    "  def search_from_head(self, data) :\n",
    "    if self.head == None:\n",
    "      return False\n",
    "      \n",
    "    node = self.head\n",
    "    while node:\n",
    "      if node.data == data:\n",
    "        return node\n",
    "      else:\n",
    "        node = node.next\n",
    "      \n",
    "    return False\n",
    "\n",
    "  def search_from_tail(self, data) :\n",
    "    if self.head == None:\n",
    "      return False\n",
    "    \n",
    "    node = self.tail\n",
    "    while node:\n",
    "      if node.data == data:\n",
    "        return node\n",
    "      else :\n",
    "        node = node.prev\n",
    "\n",
    "    return False\n",
    "  \n",
    "  def insert_before(self, data, before_data) :\n",
    "    if self.head == None:\n",
    "      self.head = Node(data)\n",
    "      return True\n",
    "    else:\n",
    "      node = self.tail\n",
    "      while node.data != before_data:\n",
    "        node = node.prev\n",
    "        if node == None :\n",
    "          return False\n",
    "\n",
    "      new = Node(data)\n",
    "      before_new = node.prev\n",
    "      before_new.next = new\n",
    "      new.prev = before_new\n",
    "      new.next = node\n",
    "      node.prev = new\n",
    "      return True"
   ]
  },
  {
   "cell_type": "code",
   "execution_count": 128,
   "metadata": {},
   "outputs": [
    {
     "name": "stdout",
     "output_type": "stream",
     "text": [
      "3\n"
     ]
    }
   ],
   "source": [
    "double_linked_list = NodeMgmt(0)\n",
    "\n",
    "for data in range(1, 10) :\n",
    "  double_linked_list.insert(data)\n",
    "\n",
    "\n",
    "node_3 = double_linked_list.search_from_head(3)\n",
    "if node_3 : \n",
    "  print(node_3.data)\n",
    "else:\n",
    "  print('NO DATA')"
   ]
  },
  {
   "cell_type": "code",
   "execution_count": 126,
   "metadata": {},
   "outputs": [
    {
     "name": "stdout",
     "output_type": "stream",
     "text": [
      "3\n"
     ]
    }
   ],
   "source": [
    "double_linked_list = NodeMgmt(0)\n",
    "\n",
    "for data in range(1, 10) :\n",
    "  double_linked_list.insert(data)\n",
    "\n",
    "\n",
    "node_3 = double_linked_list.search_from_tail(3)\n",
    "if node_3 : \n",
    "  print(node_3.data)\n",
    "else:\n",
    "  print('NO DATA')"
   ]
  },
  {
   "cell_type": "code",
   "execution_count": 130,
   "metadata": {},
   "outputs": [
    {
     "name": "stdout",
     "output_type": "stream",
     "text": [
      "0\n",
      "1\n",
      "1.2\n",
      "1.5\n",
      "2\n",
      "3\n",
      "4\n",
      "5\n",
      "6\n",
      "7\n",
      "8\n",
      "9\n"
     ]
    }
   ],
   "source": [
    "double_linked_list.insert_before(1.5, 2)\n",
    "double_linked_list.desc()"
   ]
  },
  {
   "cell_type": "code",
   "execution_count": null,
   "metadata": {},
   "outputs": [],
   "source": []
  }
 ],
 "metadata": {
  "kernelspec": {
   "display_name": "Python 3.9.13 64-bit",
   "language": "python",
   "name": "python3"
  },
  "language_info": {
   "codemirror_mode": {
    "name": "ipython",
    "version": 3
   },
   "file_extension": ".py",
   "mimetype": "text/x-python",
   "name": "python",
   "nbconvert_exporter": "python",
   "pygments_lexer": "ipython3",
   "version": "3.9.13"
  },
  "orig_nbformat": 4,
  "vscode": {
   "interpreter": {
    "hash": "aee8b7b246df8f9039afb4144a1f6fd8d2ca17a180786b69acc140d282b71a49"
   }
  }
 },
 "nbformat": 4,
 "nbformat_minor": 2
}
